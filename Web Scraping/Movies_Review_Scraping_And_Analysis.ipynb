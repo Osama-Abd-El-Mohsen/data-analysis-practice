{
 "cells": [
  {
   "cell_type": "markdown",
   "metadata": {},
   "source": [
    "# importing nedded modules\n"
   ]
  },
  {
   "cell_type": "code",
   "execution_count": 108,
   "metadata": {},
   "outputs": [],
   "source": [
    "from bs4 import BeautifulSoup\n",
    "import pandas as pd\n",
    "import requests\n",
    "import urllib"
   ]
  },
  {
   "cell_type": "markdown",
   "metadata": {},
   "source": [
    "##  Set User Agent And Get Response in HTML parser fourm"
   ]
  },
  {
   "cell_type": "code",
   "execution_count": 95,
   "metadata": {},
   "outputs": [],
   "source": [
    "Url = 'https://www.imdb.com/chart/top/'\n",
    "headers = {\n",
    "    'User-Agent': 'Mozilla/5.0 (Windows NT 10.0; Win64; x64) AppleWebKit/537.36 (KHTML, like Gecko) Chrome/109.0.0.0 Safari/537.36',\n",
    "}\n",
    "Response = requests.get(Url,headers=headers)\n",
    "soup = BeautifulSoup(Response.text, \"html.parser\")"
   ]
  },
  {
   "cell_type": "markdown",
   "metadata": {},
   "source": [
    "# Preparing Empty Lists To recieve  data in it\n",
    "\n"
   ]
  },
  {
   "cell_type": "code",
   "execution_count": 146,
   "metadata": {},
   "outputs": [],
   "source": [
    "TopMoviesIndex = []\n",
    "MovieTitles = []\n",
    "ReleaseYears = []\n",
    "MovieDurations = []\n",
    "ContentRatings = []\n",
    "MoviesRateNumber = []\n",
    "NumberOfRatings = []"
   ]
  },
  {
   "cell_type": "markdown",
   "metadata": {},
   "source": [
    "# Scrapping Data From IMDb Website"
   ]
  },
  {
   "cell_type": "code",
   "execution_count": 147,
   "metadata": {},
   "outputs": [],
   "source": [
    "MoviesList = soup.find('ul',attrs={'class':'ipc-metadata-list ipc-metadata-list--dividers-between sc-a1e81754-0 eBRbsI compact-list-view ipc-metadata-list--base'})\n",
    "\n",
    "# getting each Movie content in Movies list \n",
    "for Movie in MoviesList :\n",
    "    # getting movie titel and index in top movies\n",
    "    Title = Movie.find('div',attrs={'class':'ipc-title ipc-title--base ipc-title--title ipc-title-link-no-icon ipc-title--on-textPrimary sc-b189961a-9 iALATN cli-title'})\n",
    "    MovieIndex = Title.text[:(str(Title.text).index('.'))]\n",
    "    MovieTitle = Title.text[(str(Title.text).index('.'))+2:]\n",
    "    TopMoviesIndex.append(MovieIndex)\n",
    "    MovieTitles.append(MovieTitle)\n",
    "\n",
    "    # getting movie year ,duration \n",
    "    YearAndDuration = Movie.find('div',attrs={'class':'sc-b189961a-7 feoqjK cli-title-metadata'})\n",
    "    YearAndDuration = [year.text for year in YearAndDuration]\n",
    "    year = YearAndDuration[0]\n",
    "    duration = YearAndDuration[1]\n",
    "\n",
    "    # getting movie rate in numbers and number of people whos rated the movie\n",
    "    RateInNumbers = Movie.find('span',attrs={'class':'ipc-rating-star ipc-rating-star--base ipc-rating-star--imdb ratingGroup--imdb-rating'})\n",
    "    RateInNumbers = [rate.text for rate in RateInNumbers ]\n",
    "    RateNumber = RateInNumbers[1]\n",
    "    NumberOfPeopleRated = RateInNumbers[2][2:-1]\n",
    "\n",
    "    # getting Movie Content Rating if exist\n",
    "    try : \n",
    "        ContentRating = YearAndDuration[2]\n",
    "    except :\n",
    "        ContentRating = 'None'\n",
    "\n",
    "    # Appending data to the empty lists\n",
    "    ReleaseYears.append(year)\n",
    "    MovieDurations.append(duration)\n",
    "    ContentRatings.append(ContentRating)\n",
    "    MoviesRateNumber.append(RateNumber)\n",
    "    NumberOfRatings.append(NumberOfPeopleRated)\n",
    "\n",
    "\n"
   ]
  },
  {
   "cell_type": "markdown",
   "metadata": {},
   "source": [
    "# Printing data"
   ]
  },
  {
   "cell_type": "code",
   "execution_count": 148,
   "metadata": {},
   "outputs": [
    {
     "name": "stdout",
     "output_type": "stream",
     "text": [
      "['1', '2', '3', '4', '5', '6', '7', '8', '9', '10', '11', '12', '13', '14', '15', '16', '17', '18', '19', '20', '21', '22', '23', '24', '25', '26', '27', '28', '29', '30', '31', '32', '33', '34', '35', '36', '37', '38', '39', '40', '41', '42', '43', '44', '45', '46', '47', '48', '49', '50', '51', '52', '53', '54', '55', '56', '57', '58', '59', '60', '61', '62', '63', '64', '65', '66', '67', '68', '69', '70', '71', '72', '73', '74', '75', '76', '77', '78', '79', '80', '81', '82', '83', '84', '85', '86', '87', '88', '89', '90', '91', '92', '93', '94', '95', '96', '97', '98', '99', '100', '101', '102', '103', '104', '105', '106', '107', '108', '109', '110', '111', '112', '113', '114', '115', '116', '117', '118', '119', '120', '121', '122', '123', '124', '125', '126', '127', '128', '129', '130', '131', '132', '133', '134', '135', '136', '137', '138', '139', '140', '141', '142', '143', '144', '145', '146', '147', '148', '149', '150', '151', '152', '153', '154', '155', '156', '157', '158', '159', '160', '161', '162', '163', '164', '165', '166', '167', '168', '169', '170', '171', '172', '173', '174', '175', '176', '177', '178', '179', '180', '181', '182', '183', '184', '185', '186', '187', '188', '189', '190', '191', '192', '193', '194', '195', '196', '197', '198', '199', '200', '201', '202', '203', '204', '205', '206', '207', '208', '209', '210', '211', '212', '213', '214', '215', '216', '217', '218', '219', '220', '221', '222', '223', '224', '225', '226', '227', '228', '229', '230', '231', '232', '233', '234', '235', '236', '237', '238', '239', '240', '241', '242', '243', '244', '245', '246', '247', '248', '249', '250']\n",
      "['The Shawshank Redemption', 'The Godfather', 'The Dark Knight', 'The Godfather Part II', '12 Angry Men', \"Schindler's List\", 'The Lord of the Rings: The Return of the King', 'Pulp Fiction', 'The Lord of the Rings: The Fellowship of the Ring', 'The Good, the Bad and the Ugly', 'Forrest Gump', 'The Lord of the Rings: The Two Towers', 'Fight Club', 'Inception', 'Star Wars: Episode V - The Empire Strikes Back', 'The Matrix', 'GoodFellas', \"One Flew Over the Cuckoo's Nest\", 'Se7en', 'Interstellar', \"It's a Wonderful Life\", 'Shichinin no samurai', 'The Silence of the Lambs', 'Saving Private Ryan', 'Dune: Part Two', 'Cidade de Deus', 'Life Is Beautiful', 'The Green Mile', 'Terminator 2: Judgment Day', 'Star Wars: Episode IV - A New Hope', 'Back to the Future', 'Spirited Away', 'The Pianist', 'Parasite', 'Psycho', 'Spider-Man: Across the Spider-Verse', 'Gladiator', 'The Lion King', 'The Departed', 'Léon', 'American History X', 'Whiplash', 'The Prestige', 'Hotaru no haka', 'Harakiri', 'The Usual Suspects', 'Casablanca', 'The Intouchables', 'Cinema Paradiso', 'Modern Times', 'Rear Window', 'Once Upon a Time in the West', 'Alien', 'City Lights', 'Django Unchained', 'Apocalypse Now', 'Memento', '12th Fail', 'WALL·E', 'Indiana Jones and the Raiders of the Lost Ark', 'The Lives of Others', 'Sunset Blvd.', 'Avengers: Infinity War', 'Paths of Glory', 'Spider-Man: Into the Spider-Verse', 'Witness for the Prosecution', 'The Shining', 'The Great Dictator', 'Alien 2', 'Inglourious Basterds', 'The Dark Knight Rises', 'Dr. Strangelove or: How I Learned to Stop Worrying and Love the Bomb', 'American Beauty', 'كوكو', 'Oldeuboi', 'Amadeus', 'Toy Story', 'Das Boot', 'Avengers: Endgame', 'Braveheart', 'Good Will Hunting', 'Princess Mononoke', 'Joker', 'Your Name.', 'High and Low', 'Once Upon a Time in America', '3 Idiots', \"Singin' in the Rain\", 'Capernaum', 'Come and See', 'Requiem for a Dream', 'Toy Story 3', 'Star Wars: Episode VI - Return of the Jedi', 'Eterno resplandor de una mente sin recuerdos', 'The Hunt', '2001: A Space Odyssey', 'Oppenheimer', 'Reservoir Dogs', 'Ikiru', 'Lawrence of Arabia', 'The Apartment', 'North by Northwest', 'Incendies', 'Citizen Kane', 'M', 'Vertigo', 'Double Indemnity', 'Scarface', 'Full Metal Jacket', 'Amélie', 'Heat', 'A Clockwork Orange', 'Up', 'To Kill a Mockingbird', 'A Separation', 'The Sting', 'Indiana Jones and the Last Crusade', 'Die Hard', 'Metropolis', 'Taare Zameen Par', 'Snatch', 'Hamilton', 'L.A. Confidential', '1917', 'Ladri di biciclette', 'Taxi Driver', 'Downfall', 'Dangal', 'For a Few Dollars More', 'Batman Begins', 'The Wolf of Wall Street', 'Some Like It Hot', 'Green Book', 'The Kid', 'ذا فاذر', 'Judgment at Nuremberg', 'The Truman Show', 'All About Eve', 'Top Gun: Maverick', 'Shutter Island', 'There Will Be Blood', 'Casino', 'Jurassic Park', 'Ran', 'The Sixth Sense', \"Pan's Labyrinth\", 'Unforgiven', 'No Country for Old Men', 'A Beautiful Mind', 'The Thing', 'Kill Bill: Vol. 1', 'The Treasure of the Sierra Madre', 'Yôjinbô', 'Monty Python and the Holy Grail', 'The Great Escape', 'Finding Nemo', 'Prisoners', 'Rashomon', \"Howl's Moving Castle\", 'The Elephant Man', 'Chinatown', 'Dial M for Murder', 'Gone with the Wind', 'V for Vendetta', 'Lock, Stock and Two Smoking Barrels', 'El secreto de sus ojos', 'Inside Out', 'Raging Bull', 'Three Billboards Outside Ebbing, Missouri', 'Trainspotting', 'The Bridge on the River Kwai', 'Klaus', 'Fargo', 'Spider-Man: No Way Home', 'Catch Me If You Can', 'Warrior', 'Gran Torino', 'My Neighbor Totoro', 'Million Dollar Baby', 'Harry Potter and the Deathly Hallows: Part 2', 'Children of Heaven', '12 Years a Slave', 'Blade Runner', 'Before Sunrise', 'Ben-Hur', 'Barry Lyndon', 'The Grand Budapest Hotel', 'Gone Girl', 'Hacksaw Ridge', 'The Gold Rush', 'Salinui chueok', 'In the Name of the Father', 'Dead Poets Society', 'Mad Max: Fury Road', 'Wild Tales', 'The Deer Hunter', 'The General', 'On the Waterfront', 'Monsters, Inc.', 'Sherlock Jr.', 'Jaws', 'How to Train Your Dragon', 'The Third Man', 'Le salaire de la peur', 'Smultronstället', 'Mary and Max.', 'Mr. Smith Goes to Washington', 'Ratatouille', 'Ford v Ferrari', 'Tôkyô monogatari', 'The Big Lebowski', 'Room', 'Det sjunde inseglet', 'Rocky', 'Logan', 'Spotlight', 'Hotel Rwanda', 'The Terminator', 'Platoon', \"La passion de Jeanne d'Arc\", 'La haine', 'Antes del atardecer', 'The Best Years of Our Lives', 'Pirates of the Caribbean: The Curse of the Black Pearl', 'The Exorcist', 'Rush', 'Network', 'Jai Bhim', 'Stand by Me', 'The Wizard of Oz', 'The Incredibles', \"Hachi: A Dog's Tale\", 'Ah-ga-ssi', 'Into the Wild', 'Babam ve Oglum', 'The Sound of Music', 'La battaglia di Algeri', 'To Be or Not to Be', 'The Grapes of Wrath', 'Groundhog Day', 'Amores Perros', 'Rebecca', 'The Iron Giant', 'Cool Hand Luke', 'The Help', 'It Happened One Night', 'Aladdin', 'Drishyam', 'Dances with Wolves', 'Gangs of Wasseypur']\n",
      "['1994', '1972', '2008', '1974', '1957', '1993', '2003', '1994', '2001', '1966', '1994', '2002', '1999', '2010', '1980', '1999', '1990', '1975', '1995', '2014', '1946', '1954', '1991', '1998', '2024', '2002', '1997', '1999', '1991', '1977', '1985', '2001', '2002', '2019', '1960', '2023', '2000', '1994', '2006', '1994', '1998', '2014', '2006', '1988', '1962', '1995', '1942', '2011', '1988', '1936', '1954', '1968', '1979', '1931', '2012', '1979', '2000', '2023', '2008', '1981', '2006', '1950', '2018', '1957', '2018', '1957', '1980', '1940', '1986', '2009', '2012', '1964', '1999', '2017', '2003', '1984', '1995', '1981', '2019', '1995', '1997', '1997', '2019', '2016', '1963', '1984', '2009', '1952', '2018', '1985', '2000', '2010', '1983', '2004', '2012', '1968', '2023', '1992', '1952', '1962', '1960', '1959', '2010', '1941', '1931', '1958', '1944', '1983', '1987', '2001', '1995', '1971', '2009', '1962', '2011', '1973', '1989', '1988', '1927', '2007', '2000', '2020', '1997', '2019', '1948', '1976', '2004', '2016', '1965', '2005', '2013', '1959', '2018', '1921', '2020', '1961', '1998', '1950', '2022', '2010', '2007', '1995', '1993', '1985', '1999', '2006', '1992', '2007', '2001', '1982', '2003', '1948', '1961', '1975', '1963', '2003', '2013', '1950', '2004', '1980', '1974', '1954', '1939', '2005', '1998', '2009', '2015', '1980', '2017', '1996', '1957', '2019', '1996', '2021', '2002', '2011', '2008', '1988', '2004', '2011', '1997', '2013', '1982', '1995', '1959', '1975', '2014', '2014', '2016', '1925', '2003', '1993', '1989', '2015', '2014', '1978', '1926', '1954', '2001', '1924', '1975', '2010', '1949', '1953', '1957', '2009', '1939', '2007', '2019', '1953', '1998', '2015', '1957', '1976', '2017', '2015', '2004', '1984', '1986', '1928', '1995', '2004', '1946', '2003', '1973', '2013', '1976', '2021', '1986', '1939', '2004', '2009', '2016', '2007', '2005', '1965', '1966', '1942', '1940', '1993', '2000', '1940', '1999', '1967', '2011', '1934', '1992', '2015', '1990', '2012']\n",
      "['2h 22m', '2h 55m', '2h 32m', '3h 22m', '1h 36m', '3h 15m', '3h 21m', '2h 34m', '2h 58m', '2h 41m', '2h 22m', '2h 59m', '2h 19m', '2h 28m', '2h 4m', '2h 16m', '2h 25m', '2h 13m', '2h 7m', '2h 49m', '2h 10m', '3h 27m', '1h 58m', '2h 49m', '2h 46m', '2h 10m', '1h 56m', '3h 9m', '2h 17m', '2h 1m', '1h 56m', '2h 5m', '2h 30m', '2h 12m', '1h 49m', '2h 20m', '2h 35m', '1h 28m', '2h 31m', '1h 50m', '1h 59m', '1h 46m', '2h 10m', '1h 29m', '2h 13m', '1h 46m', '1h 42m', '1h 52m', '2h 54m', '1h 27m', '1h 52m', '2h 46m', '1h 57m', '1h 27m', '2h 45m', '2h 27m', '1h 53m', '2h 27m', '1h 38m', '1h 55m', '2h 17m', '1h 50m', '2h 29m', '1h 28m', '1h 57m', '1h 56m', '2h 26m', '2h 5m', '2h 17m', '2h 33m', '2h 44m', '1h 35m', '2h 2m', '1h 45m', '2h', '2h 40m', '1h 21m', '2h 29m', '3h 1m', '2h 58m', '2h 6m', '2h 14m', '2h 2m', '1h 46m', '2h 23m', '3h 49m', '2h 50m', '1h 43m', '2h 6m', '2h 22m', '1h 42m', '1h 43m', '2h 11m', '1h 48m', '1h 55m', '2h 29m', '3h', '1h 39m', '2h 23m', '3h 38m', '2h 5m', '2h 16m', '2h 11m', '1h 59m', '1h 57m', '2h 8m', '1h 47m', '2h 50m', '1h 56m', '2h 2m', '2h 50m', '2h 16m', '1h 36m', '2h 9m', '2h 3m', '2h 9m', '2h 7m', '2h 12m', '2h 33m', '2h 42m', '1h 44m', '2h 40m', '2h 18m', '1h 59m', '1h 29m', '1h 54m', '2h 36m', '2h 41m', '2h 12m', '2h 20m', '3h', '2h 1m', '2h 10m', '1h 8m', '1h 37m', '2h 59m', '1h 43m', '2h 18m', '2h 10m', '2h 18m', '2h 38m', '2h 58m', '2h 7m', '2h 40m', '1h 47m', '1h 58m', '2h 10m', '2h 2m', '2h 15m', '1h 49m', '1h 51m', '2h 6m', '1h 50m', '1h 31m', '2h 52m', '1h 40m', '2h 33m', '1h 28m', '1h 59m', '2h 4m', '2h 10m', '1h 45m', '3h 58m', '2h 12m', '1h 47m', '2h 9m', '1h 35m', '2h 9m', '1h 55m', '1h 33m', '2h 41m', '1h 36m', '1h 38m', '2h 28m', '2h 21m', '2h 20m', '1h 56m', '1h 26m', '2h 12m', '2h 10m', '1h 29m', '2h 14m', '1h 57m', '1h 41m', '3h 32m', '3h 5m', '1h 39m', '2h 29m', '2h 19m', '1h 35m', '2h 11m', '2h 13m', '2h 8m', '2h', '2h 2m', '3h 3m', '1h 18m', '1h 48m', '1h 32m', '45m', '2h 4m', '1h 38m', '1h 44m', '2h 11m', '1h 31m', '1h 32m', '2h 9m', '1h 51m', '2h 32m', '2h 16m', '1h 57m', '1h 58m', '1h 36m', '2h', '2h 17m', '2h 9m', '2h 1m', '1h 47m', '2h', '1h 50m', '1h 38m', '1h 20m', '2h 50m', '2h 23m', '2h 2m', '2h 3m', '2h 1m', '2h 44m', '1h 29m', '1h 42m', '1h 55m', '1h 33m', '2h 25m', '2h 28m', '1h 52m', '2h 52m', '2h 1m', '1h 39m', '2h 9m', '1h 41m', '2h 34m', '2h 10m', '1h 26m', '2h 7m', '2h 26m', '1h 45m', '1h 30m', '2h 43m', '3h 1m', '5h 21m']\n",
      "['18+', 'PG-13', '16+', 'PG-13', 'G', 'R', '16+', 'R', '13+', 'R', 'Not Rated', '16+', 'R', 'PG-13', 'G', 'R', '18+', 'R', 'R', '13+', 'Not Rated', 'Not Rated', 'R', 'PG-13', 'PG-13', 'R', 'Not Rated', '18+', 'R', 'G', '13+', '13 +', '(Banned)', 'PG', 'R', '(Banned)', '16+', 'G', '18+', 'R', 'R', 'R', '16+', 'Not Rated', 'Not Rated', 'R', 'PG', 'R', 'Not Rated', 'G', 'PG', 'Not Rated', 'Not Rated', 'G', 'G', 'R', 'R', 'None', 'G', '12+', 'R', 'Not Rated', '13 +', 'G', 'R', 'G', '18+', 'G', 'Not Rated', '18+', '13+', 'R', 'Not Rated', 'PG-15', 'R', 'R', 'G', 'None', 'PG-15', 'Not Rated', 'Not Rated', 'G', '16+', 'None', 'Not Rated', 'R', 'PG-13', 'G', '18+', 'Not Rated', 'Not Rated', 'G', 'PG', 'R', 'R', 'G', '16+', 'R', 'Not Rated', '13+', 'Approved', 'Approved', '16+', 'Not Rated', 'Passed', 'Not Rated', 'Approved', '18+', '18+', 'R', 'Not Rated', '(Banned)', 'G', 'Approved', '16+', 'PG', 'Not Rated', 'Not Rated', 'Not Rated', '13+', 'R', 'PG-13', '18 +', 'R', 'Not Rated', 'R', 'Not Rated', 'Not Rated', 'R', '13+', '18+', 'Not Rated', 'PG-15', 'Passed', '18TC', 'Approved', 'Not Rated', 'Approved', 'G', '15', 'R', 'R', 'G', 'R', 'Not Rated', 'R', 'R', 'PG-13', 'G', '18+', 'R', 'Approved', 'Not Rated', 'PG', 'Approved', 'G', 'R', 'Not Rated', '7+', 'Not Rated', 'R', 'PG', 'PG', 'R', 'Not Rated', 'Not Rated', 'Not Rated', 'R', 'Not Rated', 'R', 'PG', '7+', 'R', 'G', '16+', 'PG-13', 'R', 'G', 'Not Rated', 'R', 'PG', 'R', 'R', 'R', 'G', 'Not Rated', 'G', 'Not Rated', 'R', 'Approved', 'Not Rated', 'R', 'Not Rated', '16+', 'R', 'R', 'Passed', 'Approved', 'G', 'Passed', '7+', 'G', 'Approved', 'Not Rated', 'Not Rated', 'Not Rated', 'Approved', 'G', '18 +', 'Not Rated', '13+', 'R', 'Not Rated', 'PG', '15+', 'Not Rated', 'PG-13', 'R', 'R', 'Passed', 'Not Rated', 'Not Rated', 'Approved', 'PG-13', 'R', 'R', 'R', '16+', 'R', 'G', 'PG', 'Not Rated', 'Not Rated', 'R', 'Not Rated', 'G', 'Not Rated', 'Approved', 'Approved', 'R', 'R', 'Approved', 'PG', 'Approved', 'PG-13', 'Approved', 'G', '13+', 'Not Rated', 'Not Rated']\n",
      "['9.3', '9.2', '9.0', '9.0', '9.0', '9.0', '9.0', '8.9', '8.9', '8.8', '8.8', '8.8', '8.8', '8.8', '8.7', '8.7', '8.7', '8.7', '8.6', '8.7', '8.6', '8.6', '8.6', '8.6', '8.7', '8.6', '8.6', '8.6', '8.6', '8.6', '8.5', '8.6', '8.5', '8.5', '8.5', '8.6', '8.5', '8.5', '8.5', '8.5', '8.5', '8.5', '8.5', '8.5', '8.6', '8.5', '8.5', '8.5', '8.5', '8.5', '8.5', '8.5', '8.5', '8.5', '8.5', '8.4', '8.4', '8.9', '8.4', '8.4', '8.4', '8.4', '8.4', '8.4', '8.4', '8.4', '8.4', '8.4', '8.4', '8.4', '8.4', '8.4', '8.3', '8.4', '8.3', '8.4', '8.3', '8.4', '8.4', '8.3', '8.3', '8.3', '8.4', '8.4', '8.4', '8.3', '8.4', '8.3', '8.4', '8.4', '8.3', '8.3', '8.3', '8.3', '8.3', '8.3', '8.3', '8.3', '8.3', '8.3', '8.3', '8.3', '8.3', '8.3', '8.3', '8.3', '8.3', '8.3', '8.3', '8.3', '8.3', '8.3', '8.3', '8.3', '8.3', '8.3', '8.2', '8.2', '8.3', '8.3', '8.2', '8.3', '8.2', '8.2', '8.3', '8.2', '8.2', '8.3', '8.2', '8.2', '8.2', '8.2', '8.2', '8.2', '8.2', '8.3', '8.2', '8.2', '8.2', '8.2', '8.2', '8.2', '8.2', '8.2', '8.2', '8.2', '8.2', '8.2', '8.2', '8.2', '8.2', '8.2', '8.2', '8.2', '8.2', '8.2', '8.2', '8.2', '8.2', '8.2', '8.1', '8.2', '8.2', '8.2', '8.1', '8.2', '8.1', '8.1', '8.1', '8.1', '8.1', '8.2', '8.1', '8.2', '8.1', '8.1', '8.1', '8.1', '8.1', '8.1', '8.2', '8.1', '8.1', '8.1', '8.1', '8.1', '8.1', '8.1', '8.1', '8.1', '8.1', '8.1', '8.1', '8.1', '8.1', '8.1', '8.1', '8.1', '8.1', '8.2', '8.1', '8.1', '8.1', '8.2', '8.1', '8.1', '8.1', '8.1', '8.1', '8.1', '8.1', '8.1', '8.1', '8.1', '8.1', '8.1', '8.1', '8.1', '8.1', '8.1', '8.1', '8.1', '8.1', '8.1', '8.1', '8.1', '8.1', '8.7', '8.1', '8.1', '8.0', '8.1', '8.1', '8.1', '8.2', '8.1', '8.1', '8.1', '8.1', '8.0', '8.1', '8.1', '8.1', '8.1', '8.1', '8.1', '8.0', '8.2', '8.0', '8.2']\n",
      "['2.9M', '2M', '2.9M', '1.4M', '867K', '1.5M', '2M', '2.2M', '2M', '812K', '2.3M', '1.8M', '2.3M', '2.6M', '1.4M', '2.1M', '1.3M', '1.1M', '1.8M', '2.1M', '500K', '367K', '1.6M', '1.5M', '398K', '802K', '744K', '1.4M', '1.2M', '1.5M', '1.3M', '851K', '914K', '963K', '719K', '372K', '1.6M', '1.1M', '1.4M', '1.2M', '1.2M', '992K', '1.4M', '311K', '69K', '1.1M', '607K', '931K', '283K', '260K', '523K', '349K', '953K', '196K', '1.7M', '711K', '1.3M', '113K', '1.2M', '1M', '411K', '237K', '1.2M', '213K', '673K', '138K', '1.1M', '238K', '764K', '1.6M', '1.8M', '519K', '1.2M', '592K', '637K', '429K', '1.1M', '265K', '1.3M', '1.1M', '1.1M', '435K', '1.5M', '322K', '53K', '378K', '435K', '261K', '106K', '98K', '900K', '894K', '1.1M', '1.1M', '365K', '721K', '737K', '1.1M', '88K', '315K', '197K', '347K', '201K', '466K', '169K', '428K', '168K', '918K', '791K', '795K', '721K', '882K', '1.1M', '333K', '259K', '280K', '812K', '947K', '186K', '207K', '912K', '114K', '619K', '677K', '175K', '922K', '376K', '211K', '275K', '1.6M', '1.6M', '284K', '574K', '135K', '194K', '86K', '1.2M', '139K', '700K', '1.5M', '642K', '565K', '1.1M', '136K', '1.1M', '704K', '437K', '1.1M', '988K', '468K', '1.2M', '133K', '132K', '571K', '259K', '1.1M', '811K', '181K', '451K', '259K', '350K', '189K', '335K', '1.2M', '617K', '223K', '787K', '381K', '556K', '727K', '234K', '190K', '728K', '882K', '1.1M', '498K', '816K', '381K', '723K', '950K', '81K', '742K', '824K', '340K', '254K', '183K', '888K', '1.1M', '596K', '119K', '217K', '187K', '547K', '1.1M', '217K', '363K', '98K', '165K', '980K', '57K', '660K', '802K', '182K', '67K', '115K', '187K', '122K', '827K', '477K', '69K', '861K', '451K', '199K', '629K', '833K', '503K', '373K', '926K', '440K', '61K', '197K', '289K', '71K', '1.2M', '456K', '515K', '171K', '217K', '442K', '429K', '810K', '312K', '173K', '659K', '93K', '262K', '66K', '43K', '100K', '686K', '253K', '147K', '228K', '189K', '494K', '112K', '468K', '95K', '291K', '104K']\n"
     ]
    }
   ],
   "source": [
    "print(TopMoviesIndex)\n",
    "print(MovieTitles)\n",
    "print(ReleaseYears)\n",
    "print(MovieDurations)\n",
    "print(ContentRatings)\n",
    "print(MoviesRateNumber)\n",
    "print(NumberOfRatings)"
   ]
  },
  {
   "cell_type": "markdown",
   "metadata": {},
   "source": [
    "# Generating the dataframe"
   ]
  },
  {
   "cell_type": "code",
   "execution_count": 151,
   "metadata": {},
   "outputs": [
    {
     "data": {
      "text/html": [
       "<div>\n",
       "<style scoped>\n",
       "    .dataframe tbody tr th:only-of-type {\n",
       "        vertical-align: middle;\n",
       "    }\n",
       "\n",
       "    .dataframe tbody tr th {\n",
       "        vertical-align: top;\n",
       "    }\n",
       "\n",
       "    .dataframe thead th {\n",
       "        text-align: right;\n",
       "    }\n",
       "</style>\n",
       "<table border=\"1\" class=\"dataframe\">\n",
       "  <thead>\n",
       "    <tr style=\"text-align: right;\">\n",
       "      <th></th>\n",
       "      <th>Movie_Name</th>\n",
       "      <th>Year_Of_Release</th>\n",
       "      <th>Movie_Duration_Minutes</th>\n",
       "      <th>Content_Rating</th>\n",
       "      <th>Rating</th>\n",
       "      <th>Number_of_Ratings</th>\n",
       "    </tr>\n",
       "    <tr>\n",
       "      <th>Place</th>\n",
       "      <th></th>\n",
       "      <th></th>\n",
       "      <th></th>\n",
       "      <th></th>\n",
       "      <th></th>\n",
       "      <th></th>\n",
       "    </tr>\n",
       "  </thead>\n",
       "  <tbody>\n",
       "    <tr>\n",
       "      <th>1</th>\n",
       "      <td>The Shawshank Redemption</td>\n",
       "      <td>1994</td>\n",
       "      <td>2h 22m</td>\n",
       "      <td>18+</td>\n",
       "      <td>9.3</td>\n",
       "      <td>2.9M</td>\n",
       "    </tr>\n",
       "    <tr>\n",
       "      <th>2</th>\n",
       "      <td>The Godfather</td>\n",
       "      <td>1972</td>\n",
       "      <td>2h 55m</td>\n",
       "      <td>PG-13</td>\n",
       "      <td>9.2</td>\n",
       "      <td>2M</td>\n",
       "    </tr>\n",
       "    <tr>\n",
       "      <th>3</th>\n",
       "      <td>The Dark Knight</td>\n",
       "      <td>2008</td>\n",
       "      <td>2h 32m</td>\n",
       "      <td>16+</td>\n",
       "      <td>9.0</td>\n",
       "      <td>2.9M</td>\n",
       "    </tr>\n",
       "    <tr>\n",
       "      <th>4</th>\n",
       "      <td>The Godfather Part II</td>\n",
       "      <td>1974</td>\n",
       "      <td>3h 22m</td>\n",
       "      <td>PG-13</td>\n",
       "      <td>9.0</td>\n",
       "      <td>1.4M</td>\n",
       "    </tr>\n",
       "    <tr>\n",
       "      <th>5</th>\n",
       "      <td>12 Angry Men</td>\n",
       "      <td>1957</td>\n",
       "      <td>1h 36m</td>\n",
       "      <td>G</td>\n",
       "      <td>9.0</td>\n",
       "      <td>867K</td>\n",
       "    </tr>\n",
       "    <tr>\n",
       "      <th>...</th>\n",
       "      <td>...</td>\n",
       "      <td>...</td>\n",
       "      <td>...</td>\n",
       "      <td>...</td>\n",
       "      <td>...</td>\n",
       "      <td>...</td>\n",
       "    </tr>\n",
       "    <tr>\n",
       "      <th>246</th>\n",
       "      <td>It Happened One Night</td>\n",
       "      <td>1934</td>\n",
       "      <td>1h 45m</td>\n",
       "      <td>Approved</td>\n",
       "      <td>8.1</td>\n",
       "      <td>112K</td>\n",
       "    </tr>\n",
       "    <tr>\n",
       "      <th>247</th>\n",
       "      <td>Aladdin</td>\n",
       "      <td>1992</td>\n",
       "      <td>1h 30m</td>\n",
       "      <td>G</td>\n",
       "      <td>8.0</td>\n",
       "      <td>468K</td>\n",
       "    </tr>\n",
       "    <tr>\n",
       "      <th>248</th>\n",
       "      <td>Drishyam</td>\n",
       "      <td>2015</td>\n",
       "      <td>2h 43m</td>\n",
       "      <td>13+</td>\n",
       "      <td>8.2</td>\n",
       "      <td>95K</td>\n",
       "    </tr>\n",
       "    <tr>\n",
       "      <th>249</th>\n",
       "      <td>Dances with Wolves</td>\n",
       "      <td>1990</td>\n",
       "      <td>3h 1m</td>\n",
       "      <td>Not Rated</td>\n",
       "      <td>8.0</td>\n",
       "      <td>291K</td>\n",
       "    </tr>\n",
       "    <tr>\n",
       "      <th>250</th>\n",
       "      <td>Gangs of Wasseypur</td>\n",
       "      <td>2012</td>\n",
       "      <td>5h 21m</td>\n",
       "      <td>Not Rated</td>\n",
       "      <td>8.2</td>\n",
       "      <td>104K</td>\n",
       "    </tr>\n",
       "  </tbody>\n",
       "</table>\n",
       "<p>250 rows × 6 columns</p>\n",
       "</div>"
      ],
      "text/plain": [
       "                     Movie_Name Year_Of_Release Movie_Duration_Minutes  \\\n",
       "Place                                                                    \n",
       "1      The Shawshank Redemption            1994                 2h 22m   \n",
       "2                 The Godfather            1972                 2h 55m   \n",
       "3               The Dark Knight            2008                 2h 32m   \n",
       "4         The Godfather Part II            1974                 3h 22m   \n",
       "5                  12 Angry Men            1957                 1h 36m   \n",
       "...                         ...             ...                    ...   \n",
       "246       It Happened One Night            1934                 1h 45m   \n",
       "247                     Aladdin            1992                 1h 30m   \n",
       "248                    Drishyam            2015                 2h 43m   \n",
       "249          Dances with Wolves            1990                  3h 1m   \n",
       "250          Gangs of Wasseypur            2012                 5h 21m   \n",
       "\n",
       "      Content_Rating Rating Number_of_Ratings  \n",
       "Place                                          \n",
       "1                18+    9.3              2.9M  \n",
       "2              PG-13    9.2                2M  \n",
       "3                16+    9.0              2.9M  \n",
       "4              PG-13    9.0              1.4M  \n",
       "5                  G    9.0              867K  \n",
       "...              ...    ...               ...  \n",
       "246         Approved    8.1              112K  \n",
       "247                G    8.0              468K  \n",
       "248              13+    8.2               95K  \n",
       "249        Not Rated    8.0              291K  \n",
       "250        Not Rated    8.2              104K  \n",
       "\n",
       "[250 rows x 6 columns]"
      ]
     },
     "execution_count": 151,
     "metadata": {},
     "output_type": "execute_result"
    }
   ],
   "source": [
    "data = {\n",
    "    'Place': TopMoviesIndex,\n",
    "    'Movie_Name': MovieTitles,\n",
    "    'Year_Of_Release': ReleaseYears,\n",
    "    'Movie_Duration_Minutes': MovieDurations,\n",
    "    'Content_Rating': ContentRatings,\n",
    "    'Rating': MoviesRateNumber,\n",
    "    'Number_of_Ratings': NumberOfRatings\n",
    "}\n",
    "data = pd.DataFrame(data)\n",
    "data.set_index('Place', inplace=True)\n",
    "data"
   ]
  },
  {
   "cell_type": "markdown",
   "metadata": {},
   "source": [
    "# Save The data into CSV file"
   ]
  },
  {
   "cell_type": "code",
   "execution_count": 152,
   "metadata": {},
   "outputs": [],
   "source": [
    "data.to_csv('IMDB_Scrapped_data.csv')"
   ]
  }
 ],
 "metadata": {
  "language_info": {
   "name": "python"
  }
 },
 "nbformat": 4,
 "nbformat_minor": 2
}
